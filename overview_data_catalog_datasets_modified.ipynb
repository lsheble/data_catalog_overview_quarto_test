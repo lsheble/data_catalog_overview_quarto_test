{
  "cells": [
    {
      "cell_type": "raw",
      "metadata": {},
      "source": [
        "---\n",
        "title: AGO Data Catalog Overview\n",
        "format:\n",
        "  html:\n",
        "    code-fold: true\n",
        "---"
      ]
    },
    {
      "cell_type": "code",
      "metadata": {},
      "source": [
        "import requests\n",
        "\n",
        "url = 'https://data.detroitmi.gov/api/feed/dcat-us/1.1'\n",
        "r = requests.get(url)"
      ],
      "execution_count": null,
      "outputs": []
    },
    {
      "cell_type": "markdown",
      "metadata": {},
      "source": [
        "### How many datasets in the catalog?"
      ]
    },
    {
      "cell_type": "code",
      "metadata": {},
      "source": [
        "d = r.json()\n",
        "len(d['dataset'])"
      ],
      "execution_count": null,
      "outputs": []
    },
    {
      "cell_type": "markdown",
      "metadata": {},
      "source": [
        "### View metadata for a single dataset "
      ]
    },
    {
      "cell_type": "code",
      "metadata": {},
      "source": [
        "d['dataset'][0]"
      ],
      "execution_count": null,
      "outputs": []
    },
    {
      "cell_type": "markdown",
      "metadata": {},
      "source": [
        "### Where is data hosted?"
      ]
    },
    {
      "cell_type": "code",
      "metadata": {},
      "source": [
        "data_source = []\n",
        "for data in d['dataset']:\n",
        "    source = 'Other'\n",
        "    try:\n",
        "        for data_format in data['distribution']:\n",
        "            try:\n",
        "                if data_format['title']=='ArcGIS Hub Dataset':\n",
        "                    source='ArcGIS'\n",
        "                    break\n",
        "            except KeyError:\n",
        "                pass\n",
        "    except:\n",
        "        pass\n",
        "    data_source.append(source)"
      ],
      "execution_count": null,
      "outputs": []
    },
    {
      "cell_type": "markdown",
      "metadata": {},
      "source": [
        "Data set distributions hosted"
      ]
    },
    {
      "cell_type": "code",
      "metadata": {},
      "source": [
        "import pandas as pd\n",
        "sources = pd.Series(data_source).value_counts()\n",
        "sources"
      ],
      "execution_count": null,
      "outputs": []
    },
    {
      "cell_type": "code",
      "metadata": {},
      "source": [
        "import matplotlib.pyplot as plt \n",
        "import seaborn as sns\n",
        "\n",
        "#set preferences\n",
        "sns.set(color_codes=True)"
      ],
      "execution_count": null,
      "outputs": []
    },
    {
      "cell_type": "markdown",
      "metadata": {},
      "source": [
        "### Most frequently used keywords"
      ]
    },
    {
      "cell_type": "code",
      "metadata": {},
      "source": [
        "keywords = []\n",
        "for data in d['dataset']:\n",
        "    try:\n",
        "        keywords = keywords + data['keyword']\n",
        "    except:\n",
        "        pass"
      ],
      "execution_count": null,
      "outputs": []
    },
    {
      "cell_type": "code",
      "metadata": {},
      "source": [
        "count =  pd.Series(keywords).value_counts()"
      ],
      "execution_count": null,
      "outputs": []
    },
    {
      "cell_type": "code",
      "metadata": {},
      "source": [
        "counts = count[:40]\n",
        "counts.sort_values(ascending=False, inplace=True)"
      ],
      "execution_count": null,
      "outputs": []
    },
    {
      "cell_type": "code",
      "metadata": {},
      "source": [
        "#Generates bar graph\n",
        "ax = counts.sort_values(ascending=True).plot(kind='barh', figsize=(10, 10), fontsize=12)\n",
        "\n",
        "#X axis text and display style of categories\n",
        "ax.set_xlabel(\"Frequency\", fontsize=12)\n",
        "\n",
        "#Y axis text\n",
        "ax.set_ylabel(\"Word\", fontsize=12)\n",
        "\n",
        "#Title\n",
        "ax.set_title(\"Top 40 keywords with frequency\", fontsize=20)\n",
        "\n",
        "#Annotations\n",
        "for i in ax.patches:\n",
        "    # get_width pulls left or right; get_y pushes up or down\n",
        "    ax.text(i.get_width()+.1, i.get_y()+.31, str(round((i.get_width()), 2)), fontsize=10, color='dimgrey')"
      ],
      "execution_count": null,
      "outputs": []
    },
    {
      "cell_type": "markdown",
      "metadata": {},
      "source": [
        "### Which groups / agencies publish the content?\n"
      ]
    },
    {
      "cell_type": "code",
      "metadata": {},
      "source": [
        "publisher = []\n",
        "for data in d['dataset']:\n",
        "    publisher.append(data['publisher']['name'])\n",
        "\n",
        "publisher_count =  pd.Series(publisher).value_counts()\n",
        "publisher_counts = publisher_count[:7]\n",
        "\n",
        "publisher_counts"
      ],
      "execution_count": null,
      "outputs": []
    },
    {
      "cell_type": "markdown",
      "metadata": {},
      "source": [
        "### In which formats (shapefile, API, application, etc.) is the data available?"
      ]
    },
    {
      "cell_type": "code",
      "metadata": {},
      "source": [
        "data_type = []\n",
        "for data in d['dataset']:\n",
        "    source = 'Other'\n",
        "    try:\n",
        "        for data_format in data['distribution']:\n",
        "            data_type.append(data_format['mediaType'])\n",
        "    except:\n",
        "        data_type.append('Unknown')"
      ],
      "execution_count": null,
      "outputs": []
    },
    {
      "cell_type": "markdown",
      "metadata": {},
      "source": [
        "Number of distinct dataset distribution format types"
      ]
    },
    {
      "cell_type": "code",
      "metadata": {},
      "source": [
        "data_type_count =  pd.Series(data_type).value_counts()\n",
        "len(data_type_count)"
      ],
      "execution_count": null,
      "outputs": []
    },
    {
      "cell_type": "code",
      "metadata": {},
      "source": [
        "#Generates bar graph\n",
        "ax = data_type_count.sort_values(ascending=True).plot(kind='barh', color='orange', figsize=(10, 10), fontsize=12)\n",
        "\n",
        "#X axis text and display style of categories\n",
        "ax.set_xlabel(\"Frequency\", fontsize=12)\n",
        "\n",
        "#Y axis text\n",
        "ax.set_ylabel(\"Data format\", fontsize=12)\n",
        "\n",
        "#Title\n",
        "ax.set_title(\"Formats in which data is made available\", fontsize=20)\n",
        "\n",
        "#Annotations\n",
        "for i in ax.patches:\n",
        "    # get_width pulls left or right; get_y pushes up or down\n",
        "    ax.text(i.get_width()+.1, i.get_y()+.31, str(round((i.get_width()), 2)), fontsize=10, color='dimgrey')"
      ],
      "execution_count": null,
      "outputs": []
    },
    {
      "cell_type": "markdown",
      "metadata": {},
      "source": [
        "### Are there temporal patterns for when the data is added?"
      ]
    },
    {
      "cell_type": "code",
      "metadata": {},
      "source": [
        "import datetime\n",
        "\n",
        "d['dataset'][0]['issued']"
      ],
      "execution_count": null,
      "outputs": []
    },
    {
      "cell_type": "code",
      "metadata": {},
      "source": [
        "#| warning: False\n",
        "created = pd.DataFrame(columns=['Title', 'Identifier', 'year', 'month'])\n",
        "for data in d['dataset']:\n",
        "    date_time_obj = datetime.datetime.strptime(data['issued'][:10], '%Y-%m-%d')\n",
        "    temp = {}\n",
        "    temp['Title'] = data['title']\n",
        "    temp['Identifier'] = data['identifier']\n",
        "    temp['year'] = int(date_time_obj.year)\n",
        "    temp['month'] = int(date_time_obj.month)\n",
        "    created = created.append(temp, ignore_index=True)\n",
        "#    see: https://pandas.pydata.org/docs/reference/api/pandas.concat.html#pandas.concat "
      ],
      "execution_count": null,
      "outputs": []
    },
    {
      "cell_type": "code",
      "metadata": {},
      "source": [
        "created.head()"
      ],
      "execution_count": null,
      "outputs": []
    },
    {
      "cell_type": "code",
      "metadata": {},
      "source": [
        "years_created = created['year'].unique()\n",
        "years_created"
      ],
      "execution_count": null,
      "outputs": []
    },
    {
      "cell_type": "code",
      "metadata": {},
      "source": [
        "import numpy as np\n",
        "years_created = np.sort(years_created)"
      ],
      "execution_count": null,
      "outputs": []
    },
    {
      "cell_type": "code",
      "metadata": {},
      "source": [
        "all_issued = []\n",
        "for data in d['dataset']:\n",
        "    all_issued.append(data['issued'][:7])"
      ],
      "execution_count": null,
      "outputs": []
    },
    {
      "cell_type": "code",
      "metadata": {},
      "source": [
        "from collections import Counter\n",
        "#Extract the count of occurrence of each date\n",
        "counts = Counter(all_issued)\n",
        "#Fetch ranges for the chart\n",
        "min_year = min(years_created)\n",
        "max_year = max(years_created)\n",
        "all_issued_dates = {}\n",
        "\n",
        "all_issued_dates[min(all_issued)] = counts[min(all_issued)]\n",
        "#For the first year\n",
        "for month in range(int(min(all_issued)[5:])+1, 13):\n",
        "    if month < 10:\n",
        "        date = str(min_year)+'-0'+str(month)\n",
        "    else:\n",
        "        date = str(min_year)+'-'+str(month)\n",
        "    all_issued_dates[date] = counts[date]\n",
        "#For all the years in between\n",
        "for year in range(min_year+1, max_year):\n",
        "    for month in range(1,13):\n",
        "        if month < 10:\n",
        "            date = str(year)+'-0'+str(month)\n",
        "        else:\n",
        "            date = str(year)+'-'+str(month)\n",
        "        all_issued_dates[date] = counts[date]\n",
        "#For the last year\n",
        "for month in range(1,int(max(all_issued)[5:])+1):\n",
        "    if month < 10:\n",
        "        date = str(max_year)+'-0'+str(month)\n",
        "    else:\n",
        "        date = str(max_year)+'-'+str(month)\n",
        "    all_issued_dates[date] = counts[date]"
      ],
      "execution_count": null,
      "outputs": []
    },
    {
      "cell_type": "markdown",
      "metadata": {},
      "source": [
        "#### Bar chart by month of each year"
      ]
    },
    {
      "cell_type": "code",
      "metadata": {},
      "source": [
        "plt.figure(figsize=(40,10))\n",
        "bars = plt.bar(all_issued_dates.keys(), all_issued_dates.values(), color='darkgoldenrod')\n",
        "_=plt.xticks(rotation=45)\n",
        "\n",
        "#X axis text\n",
        "plt.xlabel(\"Month of each year\", fontsize=16)\n",
        "\n",
        "#Y axis text\n",
        "plt.ylabel(\"Frequency\", fontsize=16)\n",
        "\n",
        "#Title\n",
        "plt.title(\"Number of data assets created for each month of every year\", fontsize=20)\n",
        "\n",
        "#Annotations\n",
        "for i in bars:\n",
        "    plt.text(i.get_x() + i.get_width()/2-0.3, i.get_y()+i.get_height()+2, str(round((i.get_height()), 2)), fontsize=15, color='dimgrey')\n",
        "\n",
        "plt.show()\n",
        "#plt.savefig(\"Barchart_monthly_issued_data.png\")"
      ],
      "execution_count": null,
      "outputs": []
    },
    {
      "cell_type": "markdown",
      "metadata": {},
      "source": [
        "#### \"Small multiple\" histogram charts highlighting how many datasets were added in each month of each year"
      ]
    },
    {
      "cell_type": "code",
      "metadata": {},
      "source": [
        "sns.set_style(\"whitegrid\", {'axes.grid' : False})\n",
        "#define grid of subplots based on number of unique values obtained above\n",
        "num_rows = 2\n",
        "num_cols = 5\n",
        "fig, ax = plt.subplots(num_rows, num_cols)\n",
        "\n",
        "row_count = 0\n",
        "col_count = 0\n",
        "\n",
        "while row_count <= num_rows-1:\n",
        "    for year in years_created:\n",
        "        try:\n",
        "            data_subset = created[created['year']==year]\n",
        "            data_subset['month'].plot(kind='hist', bins=12, ax=ax[row_count,col_count], figsize=(25,25), facecolor='green', alpha=0.5)\n",
        "            ax[row_count,col_count].set_title(year)\n",
        "            ax[row_count,col_count].set_xlim([1, 13])\n",
        "            if col_count==num_cols-1:\n",
        "                row_count = row_count + 1\n",
        "                col_count = 0\n",
        "            else:\n",
        "                col_count = col_count + 1\n",
        "        except:\n",
        "            pass"
      ],
      "execution_count": null,
      "outputs": []
    },
    {
      "cell_type": "markdown",
      "metadata": {},
      "source": [
        "#### Stacked bar chart for each month of the year"
      ]
    },
    {
      "cell_type": "code",
      "metadata": {},
      "source": [
        "jan, feb, mar, apr, may, june, july, aug, sep, octo, nov, dec = ([] for i in range(12))\n",
        "for year in years_created:\n",
        "    data_subset = created[created['year']==year]\n",
        "    jan.append(data_subset[data_subset.month == 1].count()[0])\n",
        "    feb.append(data_subset[data_subset.month == 2].count()[0])\n",
        "    mar.append(data_subset[data_subset.month == 3].count()[0])\n",
        "    apr.append(data_subset[data_subset.month == 4].count()[0])\n",
        "    may.append(data_subset[data_subset.month == 5].count()[0])\n",
        "    june.append(data_subset[data_subset.month == 6].count()[0])\n",
        "    july.append(data_subset[data_subset.month == 7].count()[0])\n",
        "    aug.append(data_subset[data_subset.month == 8].count()[0])\n",
        "    sep.append(data_subset[data_subset.month == 9].count()[0])\n",
        "    octo.append(data_subset[data_subset.month == 10].count()[0])\n",
        "    nov.append(data_subset[data_subset.month == 11].count()[0])\n",
        "    dec.append(data_subset[data_subset.month == 12].count()[0])"
      ],
      "execution_count": null,
      "outputs": []
    },
    {
      "cell_type": "code",
      "metadata": {},
      "source": [
        "#add colors\n",
        "colors = ['rosybrown', 'goldenrod','cadetblue','chocolate','gold', 'coral', 'lightskyblue', 'orchid', 'slategrey', 'orange', 'tan', 'seagreen']# The position of the bars on the x-axis\n",
        "r1 = range(len(years_created))\n",
        "\n",
        "barWidth = 1\n",
        "#plot bars\n",
        "plt.figure(figsize=(10,7))\n",
        "plt.bar(r1, jan, color=colors[0], edgecolor='white', width=barWidth, label=\"January\")\n",
        "plt.bar(r1, feb, bottom=np.array(jan), color=colors[1], edgecolor='white', width=barWidth, label='February')\n",
        "plt.bar(r1, mar, bottom=np.array(jan)+np.array(feb), color=colors[2], edgecolor='white', width=barWidth, label='March')\n",
        "plt.bar(r1, apr, bottom=np.array(jan)+np.array(feb)+np.array(mar), color=colors[3], edgecolor='white', width=barWidth, label='April')\n",
        "plt.bar(r1, may, bottom=np.array(jan)+np.array(feb)+np.array(mar)+np.array(apr), color=colors[4], edgecolor='white', width=barWidth, label='May')\n",
        "plt.bar(r1, june, bottom=np.array(jan)+np.array(feb)+np.array(mar)+np.array(apr)+np.array(may), color=colors[5], edgecolor='white', width=barWidth, label='June')\n",
        "plt.bar(r1, july, bottom=np.array(jan)+np.array(feb)+np.array(mar)+np.array(apr)+np.array(may)+np.array(june), color=colors[6], edgecolor='white', width=barWidth, label='July')\n",
        "plt.bar(r1, aug, bottom=np.array(jan)+np.array(feb)+np.array(mar)+np.array(apr)+np.array(may)+np.array(june)+np.array(july), color=colors[7], edgecolor='white', width=barWidth, label='August')\n",
        "plt.bar(r1, sep, bottom=np.array(jan)+np.array(feb)+np.array(mar)+np.array(apr)+np.array(may)+np.array(june)+np.array(july)+np.array(aug), color=colors[8], edgecolor='white', width=barWidth, label='September')\n",
        "plt.bar(r1, octo, bottom=np.array(jan)+np.array(feb)+np.array(mar)+np.array(apr)+np.array(may)+np.array(june)+np.array(july)+np.array(aug)+np.array(sep), color=colors[9], edgecolor='white', width=barWidth, label='October')\n",
        "plt.bar(r1, nov, bottom=np.array(jan)+np.array(feb)+np.array(mar)+np.array(apr)+np.array(may)+np.array(june)+np.array(july)+np.array(aug)+np.array(sep)+np.array(octo), color=colors[10], edgecolor='white', width=barWidth, label='November')\n",
        "bars = plt.bar(r1, dec, bottom=np.array(jan)+np.array(feb)+np.array(mar)+np.array(apr)+np.array(may)+np.array(june)+np.array(july)+np.array(aug)+np.array(sep)+np.array(octo)+np.array(nov), color=colors[11], edgecolor='white', width=barWidth, label='December')\n",
        "plt.legend()# Custom X axis\n",
        "plt.xticks(r1, years_created, fontweight='bold')\n",
        "plt.xlabel(\"Years\")\n",
        "plt.ylabel(\"Frequency\")\n",
        "plt.title('Data assets created by month of each year')\n",
        "#Annotations\n",
        "counts = created['year'].value_counts().sort_values()\n",
        "ix = min(years_created)\n",
        "for i in bars:\n",
        "    plt.text(i.get_x() + i.get_width()/2-0.11, i.get_y()+i.get_height()+5, str(counts[ix]), fontsize=10, color='dimgrey')\n",
        "    ix = ix + 1\n",
        "plt.show()"
      ],
      "execution_count": null,
      "outputs": []
    },
    {
      "cell_type": "markdown",
      "metadata": {},
      "source": [
        "#### Temporal patterns per quarter"
      ]
    },
    {
      "cell_type": "code",
      "metadata": {},
      "source": [
        "q1, q2, q3, q4 = ([] for i in range(4))\n",
        "for year in years_created:\n",
        "    data_subset = created[created['year']==year]\n",
        "    q1.append(data_subset[data_subset.month.isin([1, 2, 3])].count()[0])\n",
        "    q2.append(data_subset[data_subset.month.isin([4, 5, 6])].count()[0])\n",
        "    q3.append(data_subset[data_subset.month.isin([7, 8, 9])].count()[0])\n",
        "    q4.append(data_subset[data_subset.month.isin([10, 11, 12])].count()[0])"
      ],
      "execution_count": null,
      "outputs": []
    },
    {
      "cell_type": "code",
      "metadata": {},
      "source": [
        "#add colors\n",
        "colors = ['deepskyblue', 'pink', 'forestgreen', 'gold']# The position of the bars on the x-axis\n",
        "r1 = range(len(years_created))\n",
        "\n",
        "barWidth = 1\n",
        "#plot bars\n",
        "plt.figure(figsize=(10,7))\n",
        "plt.bar(r1, q1, color=colors[0], edgecolor='white', width=barWidth, label=\"Q1 (Jan-Mar)\")\n",
        "plt.bar(r1, q2, bottom=np.array(q1), color=colors[1], edgecolor='white', width=barWidth, label='Q2 (Apr-Jun)')\n",
        "plt.bar(r1, q3, bottom=np.array(q1)+np.array(q2), color=colors[2], edgecolor='white', width=barWidth, label='Q3 (Jul-Sep)')\n",
        "bars = plt.bar(r1, q4, bottom=np.array(q1)+np.array(q2)+np.array(q3), color=colors[3], edgecolor='white', width=barWidth, label='Q4 (Oct-Dec)')\n",
        "plt.legend()# Custom X axis\n",
        "plt.xticks(r1, years_created, fontweight='bold')\n",
        "plt.xlabel(\"Years\")\n",
        "plt.ylabel(\"Frequency\")\n",
        "plt.title('Data assets created by each yearly quarter')\n",
        "#Annotations\n",
        "counts = created['year'].value_counts().sort_values()\n",
        "ix = min(years_created)\n",
        "for i in bars:\n",
        "    plt.text(i.get_x() + i.get_width()/2-0.11, i.get_y()+i.get_height()+5, str(counts[ix]), fontsize=10, color='dimgrey')\n",
        "    ix = ix + 1\n",
        "plt.show()\n"
      ],
      "execution_count": null,
      "outputs": []
    }
  ],
  "metadata": {
    "kernelspec": {
      "name": "python3",
      "language": "python",
      "display_name": "Python 3 (ipykernel)"
    }
  },
  "nbformat": 4,
  "nbformat_minor": 4
}